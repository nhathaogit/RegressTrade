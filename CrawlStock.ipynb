{
  "cells": [
    {
      "cell_type": "code",
      "execution_count": 8,
      "metadata": {
        "id": "3ljkbwMZWPm2"
      },
      "outputs": [],
      "source": [
        "import requests as rq\n",
        "import pandas as pd\n",
        "from bs4 import BeautifulSoup as bs\n",
        "import websocket\n",
        "import json"
      ]
    },
    {
      "cell_type": "markdown",
      "metadata": {},
      "source": [
        "Lấy HTML từ trang web giá cổ phiếu."
      ]
    },
    {
      "cell_type": "code",
      "execution_count": null,
      "metadata": {
        "colab": {
          "base_uri": "https://localhost:8080/"
        },
        "id": "ZBfvfBwiZRoi",
        "outputId": "6d89d679-4fa1-46ea-8cc0-9045b2e9fb79"
      },
      "outputs": [],
      "source": [
        "url = \"https://banggia.vps.com.vn/chung-khoan/HOSE\"\n",
        "\n",
        "headers = {\n",
        "    \"user-agent\": \"Mozilla/5.0 (Windows NT 10.0; Win64; x64) AppleWebKit/537.36 (KHTML, like Gecko) Chrome/132.0.0.0 Safari/537.36\"\n",
        "}\n",
        "\n",
        "cookies = {\n",
        "    \"ASP.NET_SessionId\": \"n34zw2f3dsyed02mfkx14tgz\",\n",
        "    \"__RequestVerificationToken\": \"EuYLzDFFkAYDsD9T1oDEojg4kpSPsHk64IOZqabbIbekVjI5CN_VWXi0u7FfiY4D67XM04LsN8yHMAi_TEdem386bv_FXvXs8Q9h4fWg2hs1\",\n",
        "}\n",
        "\n",
        "response = rq.get(url, cookies=cookies, headers=headers)\n",
        "soup = bs(response.content, 'html.parser')"
      ]
    },
    {
      "cell_type": "markdown",
      "metadata": {},
      "source": [
        "Crawl dữ liệu từ WebSocket của trang web."
      ]
    },
    {
      "cell_type": "code",
      "execution_count": null,
      "metadata": {},
      "outputs": [],
      "source": [
        "data = []\n",
        "\n",
        "def on_message(ws, message):\n",
        "    print(\"💬 Received:\", message)\n",
        "\n",
        "def on_error(ws, error):\n",
        "    print(\"❌ Error:\", error)\n",
        "\n",
        "def on_close(ws, close_status_code, close_msg):\n",
        "    print(\"🔒 Closed\")\n",
        "\n",
        "\n",
        "def on_open(ws):\n",
        "    print(\"🔓 Connection opened\")\n",
        "ws = websocket.WebSocketApp(\"wss://bgdatafeed.vps.com.vn/socket.io/?EIO=3&transport=websocket\",   \n",
        "                                on_open=on_open,\n",
        "                                on_message=on_message,\n",
        "                                on_error=on_error,\n",
        "                                on_close=on_close)                     \n",
        "\n",
        "ws.run_forever()\n"
      ]
    }
  ],
  "metadata": {
    "colab": {
      "provenance": []
    },
    "kernelspec": {
      "display_name": "venv",
      "language": "python",
      "name": "python3"
    },
    "language_info": {
      "codemirror_mode": {
        "name": "ipython",
        "version": 3
      },
      "file_extension": ".py",
      "mimetype": "text/x-python",
      "name": "python",
      "nbconvert_exporter": "python",
      "pygments_lexer": "ipython3",
      "version": "3.13.3"
    }
  },
  "nbformat": 4,
  "nbformat_minor": 0
}
