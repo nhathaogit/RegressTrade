{
  "cells": [
    {
      "cell_type": "code",
      "execution_count": 1,
      "metadata": {
        "id": "3ljkbwMZWPm2"
      },
      "outputs": [],
      "source": [
        "import requests as rq\n",
        "import pandas as pd\n",
        "from bs4 import BeautifulSoup as bs\n",
        "import websocket\n",
        "import json"
      ]
    },
    {
      "cell_type": "markdown",
      "metadata": {},
      "source": [
        "Lấy HTML từ trang web giá cổ phiếu."
      ]
    },
    {
      "cell_type": "code",
      "execution_count": 2,
      "metadata": {
        "colab": {
          "base_uri": "https://localhost:8080/"
        },
        "id": "ZBfvfBwiZRoi",
        "outputId": "6d89d679-4fa1-46ea-8cc0-9045b2e9fb79"
      },
      "outputs": [
        {
          "name": "stdout",
          "output_type": "stream",
          "text": [
            "<!DOCTYPE html>\n",
            "<html lang=\"en\">\n",
            " <head>\n",
            "  <meta charset=\"utf-8\"/>\n",
            "  <link href=\"/favicon.ico\" rel=\"icon\"/>\n",
            "  <meta content=\"#000000\" name=\"theme-color\"/>\n",
            "  <title>\n",
            "   VPS - Bảng giá\n",
            "  </title>\n",
            "  <meta content=\"width=1000\" name=\"viewport\" user-scaleable=\"0\"/>\n",
            "  <meta content=\"yes\" name=\"mobile-web-app-capable\"/>\n",
            "  <meta content=\"black\" name=\"apple-mobile-web-app-status-bar-style\">\n",
            "   <meta content=\"bảng giá,bảng giá nhanh,bảng giá chứng khoán,tin tức,tin tức tài chính, websocket, ajax, lịch sử chứng khoán, bảng giá HOSE, bảng giá HNX, bảng giá UPCOM, giao dịch thỏa thuận, thông tin thị trường, biểu đồ phân tích kỹ thuật, Công ty Cổ phần Chứng khoán VPS\" name=\"description\">\n",
            "    <meta content=\"vpbs,vps,bảng giá,bảng giá nhanh,tin tức, Công ty Cổ phần Chứng khoán VPS\" name=\"keywords\"/>\n",
            "    <meta content=\"VPS\" name=\"author\"/>\n",
            "    <script src=\"/config.js?v=20240221\" type=\"text/javascript\">\n",
            "    </script>\n",
            "    <script src=\"/message.js?v=20230614\" type=\"text/javascript\">\n",
            "    </script>\n",
            "    <script async=\"\" src=\"https://www.googletagmanager.com/gtag/js?id=G-790K9595DC\">\n",
            "    </script>\n",
            "    <script>\n",
            "     function gtag(){dataLayer.push(arguments)}window.dataLayer=window.dataLayer||[],gtag(\"js\",new Date),gtag(\"config\",\"G-790K9595DC\")\n",
            "    </script>\n",
            "    <link href=\"/static/css/2.778f565f.chunk.css\" rel=\"stylesheet\"/>\n",
            "    <link href=\"/static/css/main.f2a524da.chunk.css\" rel=\"stylesheet\"/>\n",
            "   </meta>\n",
            "  </meta>\n",
            " </head>\n",
            " <body>\n",
            "  <noscript>\n",
            "   You need to enable JavaScript to run this app.\n",
            "  </noscript>\n",
            "  <div id=\"root\">\n",
            "  </div>\n",
            "  <script>\n",
            "   !function(l){function e(e){for(var r,t,n=e[0],o=e[1],u=e[2],a=0,i=[];a<n.length;a++)t=n[a],Object.prototype.hasOwnProperty.call(p,t)&&p[t]&&i.push(p[t][0]),p[t]=0;for(r in o)Object.prototype.hasOwnProperty.call(o,r)&&(l[r]=o[r]);for(s&&s(e);i.length;)i.shift()();return f.push.apply(f,u||[]),c()}function c(){for(var e,r=0;r<f.length;r++){for(var t=f[r],n=!0,o=1;o<t.length;o++){var u=t[o];0!==p[u]&&(n=!1)}n&&(f.splice(r--,1),e=a(a.s=t[0]))}return e}var t={},p={1:0},f=[];function a(e){if(t[e])return t[e].exports;var r=t[e]={i:e,l:!1,exports:{}};return l[e].call(r.exports,r,r.exports,a),r.l=!0,r.exports}a.m=l,a.c=t,a.d=function(e,r,t){a.o(e,r)||Object.defineProperty(e,r,{enumerable:!0,get:t})},a.r=function(e){\"undefined\"!=typeof Symbol&&Symbol.toStringTag&&Object.defineProperty(e,Symbol.toStringTag,{value:\"Module\"}),Object.defineProperty(e,\"__esModule\",{value:!0})},a.t=function(r,e){if(1&e&&(r=a(r)),8&e)return r;if(4&e&&\"object\"==typeof r&&r&&r.__esModule)return r;var t=Object.create(null);if(a.r(t),Object.defineProperty(t,\"default\",{enumerable:!0,value:r}),2&e&&\"string\"!=typeof r)for(var n in r)a.d(t,n,function(e){return r[e]}.bind(null,n));return t},a.n=function(e){var r=e&&e.__esModule?function(){return e.default}:function(){return e};return a.d(r,\"a\",r),r},a.o=function(e,r){return Object.prototype.hasOwnProperty.call(e,r)},a.p=\"/\";var r=window[\"webpackJsonppriceboard-react\"]=window[\"webpackJsonppriceboard-react\"]||[],n=r.push.bind(r);r.push=e,r=r.slice();for(var o=0;o<r.length;o++)e(r[o]);var s=n;c()}([])\n",
            "  </script>\n",
            "  <script src=\"/static/js/2.45520371.chunk.js\">\n",
            "  </script>\n",
            "  <script src=\"/static/js/main.05a95d31.chunk.js\">\n",
            "  </script>\n",
            " </body>\n",
            "</html>\n",
            "\n"
          ]
        }
      ],
      "source": [
        "url = \"https://banggia.vps.com.vn/chung-khoan/HOSE\"\n",
        "\n",
        "headers = {\n",
        "    \"user-agent\": \"Mozilla/5.0 (Windows NT 10.0; Win64; x64) AppleWebKit/537.36 (KHTML, like Gecko) Chrome/132.0.0.0 Safari/537.36\"\n",
        "}\n",
        "\n",
        "cookies = {\n",
        "    \"ASP.NET_SessionId\": \"n34zw2f3dsyed02mfkx14tgz\",\n",
        "    \"__RequestVerificationToken\": \"EuYLzDFFkAYDsD9T1oDEojg4kpSPsHk64IOZqabbIbekVjI5CN_VWXi0u7FfiY4D67XM04LsN8yHMAi_TEdem386bv_FXvXs8Q9h4fWg2hs1\",\n",
        "}\n",
        "\n",
        "response = rq.get(url, cookies=cookies, headers=headers)\n",
        "soup = bs(response.content, 'html.parser')\n",
        "print(soup.prettify())"
      ]
    },
    {
      "cell_type": "markdown",
      "metadata": {},
      "source": [
        "Crawl dữ liệu từ WebSocket của trang web."
      ]
    },
    {
      "cell_type": "code",
      "execution_count": 3,
      "metadata": {},
      "outputs": [
        {
          "name": "stdout",
          "output_type": "stream",
          "text": [
            "🔓 Connection opened\n",
            "💬 Received: 0{\"sid\":\"ivcPKnn4dWQs_zToAYHC\",\"upgrades\":[],\"pingInterval\":25000,\"pingTimeout\":60000}\n",
            "💬 Received: 40\n",
            "❌ Error: \n",
            "🔒 Closed\n"
          ]
        },
        {
          "data": {
            "text/plain": [
              "True"
            ]
          },
          "execution_count": 3,
          "metadata": {},
          "output_type": "execute_result"
        }
      ],
      "source": [
        "data = []\n",
        "\n",
        "def on_message(ws, message):\n",
        "    print(\"💬 Received:\", message)\n",
        "\n",
        "def on_error(ws, error):\n",
        "    print(\"❌ Error:\", error)\n",
        "\n",
        "def on_close(ws, close_status_code, close_msg):\n",
        "    print(\"🔒 Closed\")\n",
        "\n",
        "\n",
        "def on_open(ws):\n",
        "    print(\"🔓 Connection opened\")\n",
        "\n",
        "def create_ws():\n",
        "    ws = websocket.WebSocketApp(\n",
        "        \"wss://bgdatafeed.vps.com.vn/socket.io/?EIO=3&transport=websocket\",\n",
        "        on_open=on_open,\n",
        "        on_message=on_message,\n",
        "        on_error=on_error,\n",
        "        on_close=on_close,\n",
        "    )\n",
        "    return ws\n",
        "ws = websocket.WebSocketApp(\"wss://bgdatafeed.vps.com.vn/socket.io/?EIO=3&transport=websocket\",   \n",
        "                                on_open=on_open,\n",
        "                                on_message=on_message,\n",
        "                                on_error=on_error,\n",
        "                                on_close=on_close)                     \n",
        "\n",
        "ws.run_forever()\n"
      ]
    }
  ],
  "metadata": {
    "colab": {
      "provenance": []
    },
    "kernelspec": {
      "display_name": "venv",
      "language": "python",
      "name": "python3"
    },
    "language_info": {
      "codemirror_mode": {
        "name": "ipython",
        "version": 3
      },
      "file_extension": ".py",
      "mimetype": "text/x-python",
      "name": "python",
      "nbconvert_exporter": "python",
      "pygments_lexer": "ipython3",
      "version": "3.13.3"
    }
  },
  "nbformat": 4,
  "nbformat_minor": 0
}
